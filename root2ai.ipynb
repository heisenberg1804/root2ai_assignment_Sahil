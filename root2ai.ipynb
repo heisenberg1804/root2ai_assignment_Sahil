{
 "cells": [
  {
   "cell_type": "code",
   "execution_count": 41,
   "id": "071781ae",
   "metadata": {},
   "outputs": [],
   "source": [
    "import pandas as pd\n",
    "import numpy as np\n",
    "import matplotlib.pyplot as plt\n",
    "pd.set_option('display.max_colwidth', None)\n"
   ]
  },
  {
   "cell_type": "code",
   "execution_count": 42,
   "id": "2d33670d",
   "metadata": {},
   "outputs": [],
   "source": [
    "dataset = pd.read_csv('root2aidata.csv')"
   ]
  },
  {
   "cell_type": "code",
   "execution_count": 43,
   "id": "283122e8",
   "metadata": {},
   "outputs": [
    {
     "name": "stdout",
     "output_type": "stream",
     "text": [
      "<class 'pandas.core.frame.DataFrame'>\n",
      "RangeIndex: 22704 entries, 0 to 22703\n",
      "Data columns (total 2 columns):\n",
      " #   Column  Non-Null Count  Dtype \n",
      "---  ------  --------------  ----- \n",
      " 0   Text    22701 non-null  object\n",
      " 1   Target  22704 non-null  object\n",
      "dtypes: object(2)\n",
      "memory usage: 354.9+ KB\n"
     ]
    }
   ],
   "source": [
    "dataset.info()"
   ]
  },
  {
   "cell_type": "code",
   "execution_count": 44,
   "id": "5fbf9f3e",
   "metadata": {},
   "outputs": [
    {
     "data": {
      "text/plain": [
       "array(['Blockchain', 'Bigdata', 'credit reporting', 'Cyber Security',\n",
       "       'FinTech', 'Microservices', 'Neobanks', 'Robo Advising',\n",
       "       'Stock Trading', 'Data Security', 'Reg Tech'], dtype=object)"
      ]
     },
     "execution_count": 44,
     "metadata": {},
     "output_type": "execute_result"
    }
   ],
   "source": [
    "dataset['Target'].unique()"
   ]
  },
  {
   "cell_type": "code",
   "execution_count": 45,
   "id": "7ba12a75",
   "metadata": {},
   "outputs": [
    {
     "data": {
      "text/html": [
       "<div>\n",
       "<style scoped>\n",
       "    .dataframe tbody tr th:only-of-type {\n",
       "        vertical-align: middle;\n",
       "    }\n",
       "\n",
       "    .dataframe tbody tr th {\n",
       "        vertical-align: top;\n",
       "    }\n",
       "\n",
       "    .dataframe thead th {\n",
       "        text-align: right;\n",
       "    }\n",
       "</style>\n",
       "<table border=\"1\" class=\"dataframe\">\n",
       "  <thead>\n",
       "    <tr style=\"text-align: right;\">\n",
       "      <th></th>\n",
       "      <th>Text</th>\n",
       "      <th>Target</th>\n",
       "    </tr>\n",
       "  </thead>\n",
       "  <tbody>\n",
       "    <tr>\n",
       "      <th>16661</th>\n",
       "      <td>NaN</td>\n",
       "      <td>Microservices</td>\n",
       "    </tr>\n",
       "    <tr>\n",
       "      <th>16940</th>\n",
       "      <td>NaN</td>\n",
       "      <td>Microservices</td>\n",
       "    </tr>\n",
       "    <tr>\n",
       "      <th>17073</th>\n",
       "      <td>NaN</td>\n",
       "      <td>Microservices</td>\n",
       "    </tr>\n",
       "  </tbody>\n",
       "</table>\n",
       "</div>"
      ],
      "text/plain": [
       "      Text         Target\n",
       "16661  NaN  Microservices\n",
       "16940  NaN  Microservices\n",
       "17073  NaN  Microservices"
      ]
     },
     "execution_count": 45,
     "metadata": {},
     "output_type": "execute_result"
    }
   ],
   "source": [
    "dataset.loc[dataset['Text'].isnull()]"
   ]
  },
  {
   "cell_type": "code",
   "execution_count": 46,
   "id": "52c748b0",
   "metadata": {},
   "outputs": [
    {
     "data": {
      "text/plain": [
       "FinTech             8551\n",
       "Cyber Security      2640\n",
       "Bigdata             2267\n",
       "Reg Tech            2206\n",
       "credit reporting    1748\n",
       "Blockchain          1375\n",
       "Neobanks            1069\n",
       "Microservices        977\n",
       "Stock Trading        787\n",
       "Robo Advising        737\n",
       "Data Security        347\n",
       "Name: Target, dtype: int64"
      ]
     },
     "execution_count": 46,
     "metadata": {},
     "output_type": "execute_result"
    }
   ],
   "source": [
    "dataset['Target'].value_counts()"
   ]
  },
  {
   "cell_type": "code",
   "execution_count": 47,
   "id": "234ab5d8",
   "metadata": {},
   "outputs": [
    {
     "data": {
      "image/png": "[encoded data removed]",
      "text/plain": [
       "<Figure size 576x432 with 1 Axes>"
      ]
     },
     "metadata": {
      "needs_background": "light"
     },
     "output_type": "display_data"
    }
   ],
   "source": [
    "#observing the distribution texts with respect to the target variable \n",
    "fig = plt.figure(figsize=(8,6))\n",
    "dataset.groupby('Target').Text.count().plot.bar(ylim=0)\n",
    "plt.show()"
   ]
  },
  {
   "cell_type": "code",
   "execution_count": 48,
   "id": "0d27297f",
   "metadata": {},
   "outputs": [],
   "source": [
    "df = dataset.copy()\n",
    "cols = ['Target', 'Text']\n",
    "df = df[cols]\n"
   ]
  },
  {
   "cell_type": "code",
   "execution_count": 49,
   "id": "6a6bde90",
   "metadata": {},
   "outputs": [],
   "source": [
    "df = df[pd.notnull(df['Text'])]\n"
   ]
  },
  {
   "cell_type": "code",
   "execution_count": 60,
   "id": "fb6106b6",
   "metadata": {},
   "outputs": [
    {
     "data": {
      "text/plain": [
       "{0: 'Blockchain',\n",
       " 1: 'Bigdata',\n",
       " 2: 'credit reporting',\n",
       " 3: 'Cyber Security',\n",
       " 4: 'FinTech',\n",
       " 5: 'Microservices',\n",
       " 6: 'Neobanks',\n",
       " 7: 'Robo Advising',\n",
       " 8: 'Stock Trading',\n",
       " 9: 'Data Security',\n",
       " 10: 'Reg Tech'}"
      ]
     },
     "execution_count": 60,
     "metadata": {},
     "output_type": "execute_result"
    }
   ],
   "source": [
    "\n",
    "df['class_id'] = df['Target'].factorize()[0]\n",
    "class_id_df = df[['Target', 'class_id']].drop_duplicates().sort_values('class_id')\n",
    "#dictionaries to be used later\n",
    "class_to_id = dict(class_id_df.values)\n",
    "id_to_class = dict(class_id_df[['class_id', 'Target']].values)\n",
    "\n",
    "id_to_class"
   ]
  },
  {
   "cell_type": "code",
   "execution_count": 61,
   "id": "0576c758",
   "metadata": {},
   "outputs": [
    {
     "data": {
      "text/plain": [
       "(22701, 6401)"
      ]
     },
     "execution_count": 61,
     "metadata": {},
     "output_type": "execute_result"
    }
   ],
   "source": [
    "#feature engineering using Term Frequency and Inverse Document Frequency\n",
    "from sklearn.feature_extraction.text import TfidfVectorizer\n",
    "\n",
    "tf_idf = TfidfVectorizer(sublinear_tf=True, min_df=5, norm='l2', encoding='latin-1', ngram_range=(1, 2), stop_words='english')\n",
    "features = tf_idf.fit_transform(df.Text).toarray()\n",
    "labels = df.class_id\n",
    "features.shape"
   ]
  },
  {
   "cell_type": "code",
   "execution_count": 69,
   "id": "34c7be20",
   "metadata": {},
   "outputs": [
    {
     "name": "stdout",
     "output_type": "stream",
     "text": [
      "# 'Bigdata':\n",
      "  . Most correlated unigrams:\n",
      ". ncbi\n",
      ". retrieved\n",
      "  . Most correlated bigrams:\n",
      ". pmid pubmed\n",
      ". retrieved october\n",
      "# 'Blockchain':\n",
      "  . Most correlated unigrams:\n",
      ". chit\n",
      ". permissioned\n",
      "  . Most correlated bigrams:\n",
      ". draft discussion\n",
      ". paper strategy\n",
      "# 'Cyber Security':\n",
      "  . Most correlated unigrams:\n",
      ". para\n",
      ". security\n",
      "  . Most correlated bigrams:\n",
      ". information security\n",
      ". security digital\n",
      "# 'Data Security':\n",
      "  . Most correlated unigrams:\n",
      ". privacy\n",
      ". protection\n",
      "  . Most correlated bigrams:\n",
      ". personal data\n",
      ". data protection\n",
      "# 'FinTech':\n",
      "  . Most correlated unigrams:\n",
      ". start\n",
      ". data\n",
      "  . Most correlated bigrams:\n",
      ". financial advisory\n",
      ". advisory group\n",
      "# 'Microservices':\n",
      "  . Most correlated unigrams:\n",
      ". application\n",
      ". architecture\n",
      "  . Most correlated bigrams:\n",
      ". cloud native\n",
      ". architectural style\n",
      "# 'Neobanks':\n",
      "  . Most correlated unigrams:\n",
      ". valuation\n",
      ". starling\n",
      "  . Most correlated bigrams:\n",
      ". sanction scanner\n",
      ". starling bank\n",
      "# 'Reg Tech':\n",
      "  . Most correlated unigrams:\n",
      ". regulators\n",
      ". regtech\n",
      "  . Most correlated bigrams:\n",
      ". financial services\n",
      ". financial institutions\n",
      "# 'Robo Advising':\n",
      "  . Most correlated unigrams:\n",
      ". advisor\n",
      ". advisory\n",
      "  . Most correlated bigrams:\n",
      ". assets management\n",
      ". initial trust\n",
      "# 'Stock Trading':\n",
      "  . Most correlated unigrams:\n",
      ". volatility\n",
      ". stock\n",
      "  . Most correlated bigrams:\n",
      ". stock exchange\n",
      ". stock market\n",
      "# 'credit reporting':\n",
      "  . Most correlated unigrams:\n",
      ". alternative\n",
      ". credit\n",
      "  . Most correlated bigrams:\n",
      ". tech credit\n",
      ". credit information\n"
     ]
    }
   ],
   "source": [
    "#to find the grams most correlated to the target using chi2 test\n",
    "from sklearn.feature_selection import chi2\n",
    "N = 2\n",
    "for Target, class_id in sorted(class_to_id.items()):\n",
    "    features_chi2 = chi2(features, labels == class_id)\n",
    "    indices = np.argsort(features_chi2[0])\n",
    "    feature_names = np.array(tf_idf.get_feature_names())[indices]\n",
    "    unigrams = [v for v in feature_names if len(v.split(' ')) == 1]\n",
    "    bigrams = [v for v in feature_names if len(v.split(' ')) == 2]\n",
    "    print(\"# '{}':\".format(Target))\n",
    "    print(\"  . Most correlated unigrams:\\n. {}\".format('\\n. '.join(unigrams[-N:])))\n",
    "    print(\"  . Most correlated bigrams:\\n. {}\".format('\\n. '.join(bigrams[-N:])))"
   ]
  },
  {
   "cell_type": "code",
   "execution_count": 76,
   "id": "d259ed06",
   "metadata": {},
   "outputs": [
    {
     "data": {
      "text/plain": [
       "(array([0.24159325, 1.79015744, 5.3874167 , ..., 0.35630543, 0.71032569,\n",
       "        0.31712546]),\n",
       " array([0.62305775, 0.18090698, 0.02028248, ..., 0.5505653 , 0.39933571,\n",
       "        0.57334028]))"
      ]
     },
     "execution_count": 76,
     "metadata": {},
     "output_type": "execute_result"
    }
   ],
   "source": [
    "features_chi2"
   ]
  },
  {
   "cell_type": "markdown",
   "id": "10bf1a74",
   "metadata": {},
   "source": [
    "# Creating a Multinomial Naive Bayes model and train the tf-idf features on it"
   ]
  },
  {
   "cell_type": "code",
   "execution_count": 80,
   "id": "04bc5632",
   "metadata": {},
   "outputs": [],
   "source": [
    "from sklearn.model_selection import train_test_split\n",
    "from sklearn.feature_extraction.text import CountVectorizer\n",
    "from sklearn.feature_extraction.text import TfidfTransformer\n",
    "from sklearn.naive_bayes import MultinomialNB\n",
    "\n",
    "X_train, X_test, y_train, y_test = train_test_split(df['Text'], df['Target'], random_state = 0)\n",
    "count_vect = CountVectorizer()\n",
    "X_train_counts = count_vect.fit_transform(X_train)\n",
    "tfidf_transformer = TfidfTransformer()\n",
    "X_train_tfidf = tfidf_transformer.fit_transform(X_train_counts)\n",
    "clf = MultinomialNB().fit(X_train_tfidf, y_train)"
   ]
  },
  {
   "cell_type": "markdown",
   "id": "ebb925d6",
   "metadata": {},
   "source": [
    "## Now looking at some predictions from the training set"
   ]
  },
  {
   "cell_type": "code",
   "execution_count": 107,
   "id": "a9b19877",
   "metadata": {},
   "outputs": [
    {
     "name": "stdout",
     "output_type": "stream",
     "text": [
      "['Bigdata']\n"
     ]
    }
   ],
   "source": [
    "print(clf.predict(tfidf_transformer.fit_transform(count_vect.transform([\"this type architecture inserts data parallel dbms implements mapreduce hadoop frameworks\"]))))"
   ]
  },
  {
   "cell_type": "code",
   "execution_count": 102,
   "id": "1ae64267",
   "metadata": {},
   "outputs": [
    {
     "data": {
      "text/html": [
       "<div>\n",
       "<style scoped>\n",
       "    .dataframe tbody tr th:only-of-type {\n",
       "        vertical-align: middle;\n",
       "    }\n",
       "\n",
       "    .dataframe tbody tr th {\n",
       "        vertical-align: top;\n",
       "    }\n",
       "\n",
       "    .dataframe thead th {\n",
       "        text-align: right;\n",
       "    }\n",
       "</style>\n",
       "<table border=\"1\" class=\"dataframe\">\n",
       "  <thead>\n",
       "    <tr style=\"text-align: right;\">\n",
       "      <th></th>\n",
       "      <th>Target</th>\n",
       "      <th>Text</th>\n",
       "      <th>class_id</th>\n",
       "    </tr>\n",
       "  </thead>\n",
       "  <tbody>\n",
       "    <tr>\n",
       "      <th>2000</th>\n",
       "      <td>Bigdata</td>\n",
       "      <td>this type architecture inserts data parallel dbms implements mapreduce hadoop frameworks</td>\n",
       "      <td>1</td>\n",
       "    </tr>\n",
       "  </tbody>\n",
       "</table>\n",
       "</div>"
      ],
      "text/plain": [
       "       Target  \\\n",
       "2000  Bigdata   \n",
       "\n",
       "                                                                                          Text  \\\n",
       "2000  this type architecture inserts data parallel dbms implements mapreduce hadoop frameworks   \n",
       "\n",
       "      class_id  \n",
       "2000         1  "
      ]
     },
     "execution_count": 102,
     "metadata": {},
     "output_type": "execute_result"
    }
   ],
   "source": [
    "df.loc[df[\"Text\"] == \"this type architecture inserts data parallel dbms implements mapreduce hadoop frameworks\"]"
   ]
  },
  {
   "cell_type": "code",
   "execution_count": 111,
   "id": "a3786f2c",
   "metadata": {
    "scrolled": true
   },
   "outputs": [
    {
     "data": {
      "text/plain": [
       "'cent credit card fixed'"
      ]
     },
     "execution_count": 111,
     "metadata": {},
     "output_type": "execute_result"
    }
   ],
   "source": [
    "df[\"Text\"][10999]"
   ]
  },
  {
   "cell_type": "code",
   "execution_count": 112,
   "id": "33f2691c",
   "metadata": {},
   "outputs": [
    {
     "name": "stdout",
     "output_type": "stream",
     "text": [
      "['FinTech']\n"
     ]
    }
   ],
   "source": [
    "print(clf.predict(tfidf_transformer.fit_transform(count_vect.transform([\"cent credit card fixed\"]))))"
   ]
  },
  {
   "cell_type": "code",
   "execution_count": 113,
   "id": "8edf65b5",
   "metadata": {},
   "outputs": [
    {
     "data": {
      "text/html": [
       "<div>\n",
       "<style scoped>\n",
       "    .dataframe tbody tr th:only-of-type {\n",
       "        vertical-align: middle;\n",
       "    }\n",
       "\n",
       "    .dataframe tbody tr th {\n",
       "        vertical-align: top;\n",
       "    }\n",
       "\n",
       "    .dataframe thead th {\n",
       "        text-align: right;\n",
       "    }\n",
       "</style>\n",
       "<table border=\"1\" class=\"dataframe\">\n",
       "  <thead>\n",
       "    <tr style=\"text-align: right;\">\n",
       "      <th></th>\n",
       "      <th>Target</th>\n",
       "      <th>Text</th>\n",
       "      <th>class_id</th>\n",
       "    </tr>\n",
       "  </thead>\n",
       "  <tbody>\n",
       "    <tr>\n",
       "      <th>10999</th>\n",
       "      <td>FinTech</td>\n",
       "      <td>cent credit card fixed</td>\n",
       "      <td>4</td>\n",
       "    </tr>\n",
       "  </tbody>\n",
       "</table>\n",
       "</div>"
      ],
      "text/plain": [
       "        Target                    Text  class_id\n",
       "10999  FinTech  cent credit card fixed         4"
      ]
     },
     "execution_count": 113,
     "metadata": {},
     "output_type": "execute_result"
    }
   ],
   "source": [
    "df.loc[df[\"Text\"] == \"cent credit card fixed\"]"
   ]
  },
  {
   "cell_type": "code",
   "execution_count": 103,
   "id": "758de48d",
   "metadata": {},
   "outputs": [
    {
     "data": {
      "text/plain": [
       "'this solid platform build trust especially many take encourage competition customer protection'"
      ]
     },
     "execution_count": 103,
     "metadata": {},
     "output_type": "execute_result"
    }
   ],
   "source": [
    "df[\"Text\"][10000]"
   ]
  },
  {
   "cell_type": "code",
   "execution_count": 104,
   "id": "5631c5d0",
   "metadata": {},
   "outputs": [
    {
     "name": "stdout",
     "output_type": "stream",
     "text": [
      "['FinTech']\n"
     ]
    }
   ],
   "source": [
    "print(clf.predict(count_vect.transform(['this solid platform build trust especially many take encourage competition customer protection'\n",
    "])))"
   ]
  },
  {
   "cell_type": "code",
   "execution_count": 105,
   "id": "5e47235f",
   "metadata": {},
   "outputs": [
    {
     "data": {
      "text/html": [
       "<div>\n",
       "<style scoped>\n",
       "    .dataframe tbody tr th:only-of-type {\n",
       "        vertical-align: middle;\n",
       "    }\n",
       "\n",
       "    .dataframe tbody tr th {\n",
       "        vertical-align: top;\n",
       "    }\n",
       "\n",
       "    .dataframe thead th {\n",
       "        text-align: right;\n",
       "    }\n",
       "</style>\n",
       "<table border=\"1\" class=\"dataframe\">\n",
       "  <thead>\n",
       "    <tr style=\"text-align: right;\">\n",
       "      <th></th>\n",
       "      <th>Target</th>\n",
       "      <th>Text</th>\n",
       "      <th>class_id</th>\n",
       "    </tr>\n",
       "  </thead>\n",
       "  <tbody>\n",
       "    <tr>\n",
       "      <th>10000</th>\n",
       "      <td>FinTech</td>\n",
       "      <td>this solid platform build trust especially many take encourage competition customer protection</td>\n",
       "      <td>4</td>\n",
       "    </tr>\n",
       "  </tbody>\n",
       "</table>\n",
       "</div>"
      ],
      "text/plain": [
       "        Target  \\\n",
       "10000  FinTech   \n",
       "\n",
       "                                                                                                 Text  \\\n",
       "10000  this solid platform build trust especially many take encourage competition customer protection   \n",
       "\n",
       "       class_id  \n",
       "10000         4  "
      ]
     },
     "execution_count": 105,
     "metadata": {},
     "output_type": "execute_result"
    }
   ],
   "source": [
    "df.loc[df[\"Text\"] == 'this solid platform build trust especially many take encourage competition customer protection'\n",
    "]"
   ]
  },
  {
   "cell_type": "markdown",
   "id": "80fe5365",
   "metadata": {},
   "source": [
    "# Model Selection Stage"
   ]
  },
  {
   "cell_type": "code",
   "execution_count": 143,
   "id": "725c0886",
   "metadata": {},
   "outputs": [],
   "source": [
    "from sklearn.linear_model import LogisticRegression\n",
    "from sklearn.ensemble import RandomForestClassifier\n",
    "from sklearn.svm import LinearSVC\n",
    "from xgboost import XGBClassifier\n",
    "from sklearn.model_selection import cross_val_score\n",
    "\n",
    "from sklearn.model_selection import GridSearchCV, RandomizedSearchCV\n"
   ]
  },
  {
   "cell_type": "code",
   "execution_count": 142,
   "id": "965d84ae",
   "metadata": {},
   "outputs": [
    {
     "data": {
      "text/plain": [
       "(17025, 10207)"
      ]
     },
     "execution_count": 142,
     "metadata": {},
     "output_type": "execute_result"
    }
   ],
   "source": [
    "X_train_tfidf.shape"
   ]
  },
  {
   "cell_type": "code",
   "execution_count": 141,
   "id": "9426ca24",
   "metadata": {},
   "outputs": [
    {
     "data": {
      "text/plain": [
       "(22701, 6401)"
      ]
     },
     "execution_count": 141,
     "metadata": {},
     "output_type": "execute_result"
    }
   ],
   "source": [
    "features.shape"
   ]
  },
  {
   "cell_type": "code",
   "execution_count": 162,
   "id": "34d22424",
   "metadata": {},
   "outputs": [],
   "source": [
    "models = [\n",
    "    #XGBClassifier(eval_metric='mlogloss'),\n",
    "    RandomForestClassifier(n_estimators=200, max_depth=3, random_state=0),\n",
    "    LinearSVC(),\n",
    "    MultinomialNB(),\n",
    "    LogisticRegression(random_state=0, max_iter = 300),\n",
    "]"
   ]
  },
  {
   "cell_type": "code",
   "execution_count": 163,
   "id": "95d63084",
   "metadata": {},
   "outputs": [],
   "source": [
    "CV = 5\n",
    "cv_df = pd.DataFrame(index=range(CV * len(models)))\n",
    "entries = []"
   ]
  },
  {
   "cell_type": "code",
   "execution_count": 164,
   "id": "231451c3",
   "metadata": {},
   "outputs": [],
   "source": [
    "for model in models:\n",
    "    model_name = model.__class__.__name__\n",
    "    accuracies = cross_val_score(model, features, labels, scoring='accuracy', cv=CV)\n",
    "    for fold_idx, accuracy in enumerate(accuracies):\n",
    "        entries.append((model_name, fold_idx, accuracy))\n",
    "cv_df = pd.DataFrame(entries, columns=['model_name', 'fold_idx', 'accuracy'])"
   ]
  },
  {
   "cell_type": "code",
   "execution_count": 166,
   "id": "f0f7a336",
   "metadata": {},
   "outputs": [
    {
     "data": {
      "image/png": "[encoded data removed]",
      "text/plain": [
       "<Figure size 432x288 with 1 Axes>"
      ]
     },
     "metadata": {
      "needs_background": "light"
     },
     "output_type": "display_data"
    }
   ],
   "source": [
    "import seaborn as sns\n",
    "sns.boxplot(x='model_name', y='accuracy', data=cv_df)\n",
    "sns.stripplot(x='model_name', y='accuracy', data=cv_df, \n",
    "              size=8, jitter=True, edgecolor=\"gray\", linewidth=2)\n",
    "plt.show()\n"
   ]
  },
  {
   "cell_type": "code",
   "execution_count": 167,
   "id": "f2fa77df",
   "metadata": {},
   "outputs": [
    {
     "data": {
      "text/plain": [
       "model_name\n",
       "LinearSVC                 0.559582\n",
       "LogisticRegression        0.571167\n",
       "MultinomialNB             0.545440\n",
       "RandomForestClassifier    0.376768\n",
       "Name: accuracy, dtype: float64"
      ]
     },
     "execution_count": 167,
     "metadata": {},
     "output_type": "execute_result"
    }
   ],
   "source": [
    "cv_df.groupby('model_name').accuracy.mean()\n"
   ]
  },
  {
   "cell_type": "code",
   "execution_count": 159,
   "id": "e8aa8ec3",
   "metadata": {},
   "outputs": [
    {
     "data": {
      "text/html": [
       "<div>\n",
       "<style scoped>\n",
       "    .dataframe tbody tr th:only-of-type {\n",
       "        vertical-align: middle;\n",
       "    }\n",
       "\n",
       "    .dataframe tbody tr th {\n",
       "        vertical-align: top;\n",
       "    }\n",
       "\n",
       "    .dataframe thead th {\n",
       "        text-align: right;\n",
       "    }\n",
       "</style>\n",
       "<table border=\"1\" class=\"dataframe\">\n",
       "  <thead>\n",
       "    <tr style=\"text-align: right;\">\n",
       "      <th></th>\n",
       "      <th>model_name</th>\n",
       "      <th>fold_idx</th>\n",
       "      <th>accuracy</th>\n",
       "    </tr>\n",
       "  </thead>\n",
       "  <tbody>\n",
       "    <tr>\n",
       "      <th>0</th>\n",
       "      <td>RandomForestClassifier</td>\n",
       "      <td>0</td>\n",
       "      <td>0.377009</td>\n",
       "    </tr>\n",
       "    <tr>\n",
       "      <th>1</th>\n",
       "      <td>RandomForestClassifier</td>\n",
       "      <td>1</td>\n",
       "      <td>0.376652</td>\n",
       "    </tr>\n",
       "    <tr>\n",
       "      <th>2</th>\n",
       "      <td>RandomForestClassifier</td>\n",
       "      <td>2</td>\n",
       "      <td>0.376872</td>\n",
       "    </tr>\n",
       "    <tr>\n",
       "      <th>3</th>\n",
       "      <td>RandomForestClassifier</td>\n",
       "      <td>3</td>\n",
       "      <td>0.376652</td>\n",
       "    </tr>\n",
       "    <tr>\n",
       "      <th>4</th>\n",
       "      <td>RandomForestClassifier</td>\n",
       "      <td>4</td>\n",
       "      <td>0.376652</td>\n",
       "    </tr>\n",
       "    <tr>\n",
       "      <th>5</th>\n",
       "      <td>LinearSVC</td>\n",
       "      <td>0</td>\n",
       "      <td>0.483153</td>\n",
       "    </tr>\n",
       "    <tr>\n",
       "      <th>6</th>\n",
       "      <td>LinearSVC</td>\n",
       "      <td>1</td>\n",
       "      <td>0.600220</td>\n",
       "    </tr>\n",
       "    <tr>\n",
       "      <th>7</th>\n",
       "      <td>LinearSVC</td>\n",
       "      <td>2</td>\n",
       "      <td>0.558811</td>\n",
       "    </tr>\n",
       "    <tr>\n",
       "      <th>8</th>\n",
       "      <td>LinearSVC</td>\n",
       "      <td>3</td>\n",
       "      <td>0.570705</td>\n",
       "    </tr>\n",
       "    <tr>\n",
       "      <th>9</th>\n",
       "      <td>LinearSVC</td>\n",
       "      <td>4</td>\n",
       "      <td>0.585022</td>\n",
       "    </tr>\n",
       "    <tr>\n",
       "      <th>10</th>\n",
       "      <td>MultinomialNB</td>\n",
       "      <td>0</td>\n",
       "      <td>0.515966</td>\n",
       "    </tr>\n",
       "    <tr>\n",
       "      <th>11</th>\n",
       "      <td>MultinomialNB</td>\n",
       "      <td>1</td>\n",
       "      <td>0.580396</td>\n",
       "    </tr>\n",
       "    <tr>\n",
       "      <th>12</th>\n",
       "      <td>MultinomialNB</td>\n",
       "      <td>2</td>\n",
       "      <td>0.544493</td>\n",
       "    </tr>\n",
       "    <tr>\n",
       "      <th>13</th>\n",
       "      <td>MultinomialNB</td>\n",
       "      <td>3</td>\n",
       "      <td>0.548238</td>\n",
       "    </tr>\n",
       "    <tr>\n",
       "      <th>14</th>\n",
       "      <td>MultinomialNB</td>\n",
       "      <td>4</td>\n",
       "      <td>0.538106</td>\n",
       "    </tr>\n",
       "    <tr>\n",
       "      <th>15</th>\n",
       "      <td>LogisticRegression</td>\n",
       "      <td>0</td>\n",
       "      <td>0.519709</td>\n",
       "    </tr>\n",
       "    <tr>\n",
       "      <th>16</th>\n",
       "      <td>LogisticRegression</td>\n",
       "      <td>1</td>\n",
       "      <td>0.610793</td>\n",
       "    </tr>\n",
       "    <tr>\n",
       "      <th>17</th>\n",
       "      <td>LogisticRegression</td>\n",
       "      <td>2</td>\n",
       "      <td>0.562115</td>\n",
       "    </tr>\n",
       "    <tr>\n",
       "      <th>18</th>\n",
       "      <td>LogisticRegression</td>\n",
       "      <td>3</td>\n",
       "      <td>0.581278</td>\n",
       "    </tr>\n",
       "    <tr>\n",
       "      <th>19</th>\n",
       "      <td>LogisticRegression</td>\n",
       "      <td>4</td>\n",
       "      <td>0.580617</td>\n",
       "    </tr>\n",
       "  </tbody>\n",
       "</table>\n",
       "</div>"
      ],
      "text/plain": [
       "                model_name  fold_idx  accuracy\n",
       "0   RandomForestClassifier         0  0.377009\n",
       "1   RandomForestClassifier         1  0.376652\n",
       "2   RandomForestClassifier         2  0.376872\n",
       "3   RandomForestClassifier         3  0.376652\n",
       "4   RandomForestClassifier         4  0.376652\n",
       "5                LinearSVC         0  0.483153\n",
       "6                LinearSVC         1  0.600220\n",
       "7                LinearSVC         2  0.558811\n",
       "8                LinearSVC         3  0.570705\n",
       "9                LinearSVC         4  0.585022\n",
       "10           MultinomialNB         0  0.515966\n",
       "11           MultinomialNB         1  0.580396\n",
       "12           MultinomialNB         2  0.544493\n",
       "13           MultinomialNB         3  0.548238\n",
       "14           MultinomialNB         4  0.538106\n",
       "15      LogisticRegression         0  0.519709\n",
       "16      LogisticRegression         1  0.610793\n",
       "17      LogisticRegression         2  0.562115\n",
       "18      LogisticRegression         3  0.581278\n",
       "19      LogisticRegression         4  0.580617"
      ]
     },
     "execution_count": 159,
     "metadata": {},
     "output_type": "execute_result"
    }
   ],
   "source": [
    "cv_df"
   ]
  },
  {
   "cell_type": "code",
   "execution_count": 168,
   "id": "e85badf1",
   "metadata": {},
   "outputs": [
    {
     "name": "stderr",
     "output_type": "stream",
     "text": [
      "C:\\Users\\sahil\\anaconda3\\lib\\site-packages\\sklearn\\linear_model\\_logistic.py:763: ConvergenceWarning: lbfgs failed to converge (status=1):\n",
      "STOP: TOTAL NO. of ITERATIONS REACHED LIMIT.\n",
      "\n",
      "Increase the number of iterations (max_iter) or scale the data as shown in:\n",
      "    https://scikit-learn.org/stable/modules/preprocessing.html\n",
      "Please also refer to the documentation for alternative solver options:\n",
      "    https://scikit-learn.org/stable/modules/linear_model.html#logistic-regression\n",
      "  n_iter_i = _check_optimize_result(\n"
     ]
    },
    {
     "data": {
      "image/png": "[encoded data removed]",
      "text/plain": [
       "<Figure size 720x720 with 2 Axes>"
      ]
     },
     "metadata": {
      "needs_background": "light"
     },
     "output_type": "display_data"
    }
   ],
   "source": [
    "model =  LogisticRegression(random_state=0)\n",
    "X_train, X_test, y_train, y_test, indices_train, indices_test = train_test_split(features, labels, df.index, test_size=0.33, random_state=0)\n",
    "model.fit(X_train, y_train)\n",
    "y_pred = model.predict(X_test)\n",
    "from sklearn.metrics import confusion_matrix\n",
    "conf_mat = confusion_matrix(y_test, y_pred)\n",
    "fig, ax = plt.subplots(figsize=(10,10))\n",
    "sns.heatmap(conf_mat, annot=True, fmt='d',\n",
    "            xticklabels=class_id_df.Target.values, yticklabels=class_id_df.Target.values)\n",
    "plt.ylabel('Actual')\n",
    "plt.xlabel('Predicted')\n",
    "plt.show()"
   ]
  },
  {
   "cell_type": "code",
   "execution_count": 170,
   "id": "2d4d18fd",
   "metadata": {},
   "outputs": [
    {
     "data": {
      "text/html": [
       "<div>\n",
       "<style scoped>\n",
       "    .dataframe tbody tr th:only-of-type {\n",
       "        vertical-align: middle;\n",
       "    }\n",
       "\n",
       "    .dataframe tbody tr th {\n",
       "        vertical-align: top;\n",
       "    }\n",
       "\n",
       "    .dataframe thead th {\n",
       "        text-align: right;\n",
       "    }\n",
       "</style>\n",
       "<table border=\"1\" class=\"dataframe\">\n",
       "  <thead>\n",
       "    <tr style=\"text-align: right;\">\n",
       "      <th></th>\n",
       "      <th>Text</th>\n",
       "      <th>Target</th>\n",
       "    </tr>\n",
       "  </thead>\n",
       "  <tbody>\n",
       "    <tr>\n",
       "      <th>0</th>\n",
       "      <td>reserve bank forming expert committee based institute development research banking technology study approach distributed ledger technology help support shift</td>\n",
       "      <td>Blockchain</td>\n",
       "    </tr>\n",
       "    <tr>\n",
       "      <th>1</th>\n",
       "      <td>director could play role financial system</td>\n",
       "      <td>Blockchain</td>\n",
       "    </tr>\n",
       "    <tr>\n",
       "      <th>2</th>\n",
       "      <td>preliminary discuss secure transaction study research payment</td>\n",
       "      <td>Blockchain</td>\n",
       "    </tr>\n",
       "    <tr>\n",
       "      <th>3</th>\n",
       "      <td>security indeed prove essential transforming financial system part effort move away heavy reliance cash based</td>\n",
       "      <td>Blockchain</td>\n",
       "    </tr>\n",
       "    <tr>\n",
       "      <th>4</th>\n",
       "      <td>bank settlement normally take three days based payment verification technology take less tier security</td>\n",
       "      <td>Blockchain</td>\n",
       "    </tr>\n",
       "    <tr>\n",
       "      <th>...</th>\n",
       "      <td>...</td>\n",
       "      <td>...</td>\n",
       "    </tr>\n",
       "    <tr>\n",
       "      <th>295</th>\n",
       "      <td>designed reconcile data regularly constantly across network</td>\n",
       "      <td>Blockchain</td>\n",
       "    </tr>\n",
       "    <tr>\n",
       "      <th>296</th>\n",
       "      <td>since data reside millions central location data management service</td>\n",
       "      <td>Blockchain</td>\n",
       "    </tr>\n",
       "    <tr>\n",
       "      <th>297</th>\n",
       "      <td>result difficult hack</td>\n",
       "      <td>Blockchain</td>\n",
       "    </tr>\n",
       "    <tr>\n",
       "      <th>298</th>\n",
       "      <td>public verifiable</td>\n",
       "      <td>Blockchain</td>\n",
       "    </tr>\n",
       "    <tr>\n",
       "      <th>299</th>\n",
       "      <td>suggest much digital gains extend well beyond currency</td>\n",
       "      <td>Blockchain</td>\n",
       "    </tr>\n",
       "  </tbody>\n",
       "</table>\n",
       "<p>300 rows × 2 columns</p>\n",
       "</div>"
      ],
      "text/plain": [
       "                                                                                                                                                              Text  \\\n",
       "0    reserve bank forming expert committee based institute development research banking technology study approach distributed ledger technology help support shift   \n",
       "1                                                                                                                        director could play role financial system   \n",
       "2                                                                                                    preliminary discuss secure transaction study research payment   \n",
       "3                                                    security indeed prove essential transforming financial system part effort move away heavy reliance cash based   \n",
       "4                                                           bank settlement normally take three days based payment verification technology take less tier security   \n",
       "..                                                                                                                                                             ...   \n",
       "295                                                                                                    designed reconcile data regularly constantly across network   \n",
       "296                                                                                            since data reside millions central location data management service   \n",
       "297                                                                                                                                          result difficult hack   \n",
       "298                                                                                                                                              public verifiable   \n",
       "299                                                                                                         suggest much digital gains extend well beyond currency   \n",
       "\n",
       "         Target  \n",
       "0    Blockchain  \n",
       "1    Blockchain  \n",
       "2    Blockchain  \n",
       "3    Blockchain  \n",
       "4    Blockchain  \n",
       "..          ...  \n",
       "295  Blockchain  \n",
       "296  Blockchain  \n",
       "297  Blockchain  \n",
       "298  Blockchain  \n",
       "299  Blockchain  \n",
       "\n",
       "[300 rows x 2 columns]"
      ]
     },
     "execution_count": 170,
     "metadata": {},
     "output_type": "execute_result"
    }
   ],
   "source": [
    "dataset.head(300)"
   ]
  },
  {
   "cell_type": "code",
   "execution_count": null,
   "id": "2b37f475",
   "metadata": {},
   "outputs": [],
   "source": []
  }
 ],
 "metadata": {
  "kernelspec": {
   "display_name": "Python 3",
   "language": "python",
   "name": "python3"
  },
  "language_info": {
   "codemirror_mode": {
    "name": "ipython",
    "version": 3
   },
   "file_extension": ".py",
   "mimetype": "text/x-python",
   "name": "python",
   "nbconvert_exporter": "python",
   "pygments_lexer": "ipython3",
   "version": "3.8.8"
  }
 },
 "nbformat": 4,
 "nbformat_minor": 5
}
