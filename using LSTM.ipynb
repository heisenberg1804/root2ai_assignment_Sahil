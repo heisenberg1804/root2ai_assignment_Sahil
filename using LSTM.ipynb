{
 "cells": [
  {
   "cell_type": "code",
   "execution_count": 19,
   "id": "9c522323",
   "metadata": {},
   "outputs": [],
   "source": [
    "import numpy as np \n",
    "import pandas as pd\n",
    "import re\n",
    "#import gc\n",
    "#import os\n",
    "#print(os.listdir(\"../input\"))\n",
    "#import fileinput\n",
    "#import string\n",
    "import tensorflow as tf\n",
    "#import zipfile\n",
    "#import datetime\n",
    "#import sys\n",
    "#from tqdm  import tqdm\n",
    "#tqdm.pandas()\n",
    "from nltk.tokenize import wordpunct_tokenize\n",
    "from nltk.corpus import stopwords\n",
    "from nltk.stem.snowball import SnowballStemmer\n",
    "from sklearn.feature_extraction.text import CountVectorizer\n",
    "from sklearn.preprocessing import LabelEncoder\n",
    "from sklearn.metrics import accuracy_score\n",
    "from sklearn.metrics import f1_score, roc_auc_score\n",
    "\n",
    "from keras.preprocessing.text import Tokenizer\n",
    "from keras.preprocessing.sequence import pad_sequences\n",
    "from keras.models import Sequential\n",
    "from keras.layers import Dense, Flatten, LSTM, Conv1D, MaxPooling1D, Dropout, Activation\n",
    "from keras.layers.embeddings import Embedding\n",
    "from sklearn.metrics import classification_report\n",
    "import matplotlib.pyplot as plt\n",
    "from keras.callbacks import EarlyStopping\n",
    "\n",
    "pd.set_option('display.max_colwidth', None)\n"
   ]
  },
  {
   "cell_type": "code",
   "execution_count": 2,
   "id": "e171703d",
   "metadata": {},
   "outputs": [],
   "source": [
    "dataset = pd.read_csv('root2aidata.csv')"
   ]
  },
  {
   "cell_type": "code",
   "execution_count": 3,
   "id": "6c16bead",
   "metadata": {},
   "outputs": [
    {
     "name": "stdout",
     "output_type": "stream",
     "text": [
      "<class 'pandas.core.frame.DataFrame'>\n",
      "RangeIndex: 22704 entries, 0 to 22703\n",
      "Data columns (total 2 columns):\n",
      " #   Column  Non-Null Count  Dtype \n",
      "---  ------  --------------  ----- \n",
      " 0   Text    22701 non-null  object\n",
      " 1   Target  22704 non-null  object\n",
      "dtypes: object(2)\n",
      "memory usage: 354.9+ KB\n"
     ]
    }
   ],
   "source": [
    "dataset.info()"
   ]
  },
  {
   "cell_type": "code",
   "execution_count": 4,
   "id": "503b03b3",
   "metadata": {},
   "outputs": [
    {
     "data": {
      "text/plain": [
       "array(['Blockchain', 'Bigdata', 'credit reporting', 'Cyber Security',\n",
       "       'FinTech', 'Microservices', 'Neobanks', 'Robo Advising',\n",
       "       'Stock Trading', 'Data Security', 'Reg Tech'], dtype=object)"
      ]
     },
     "execution_count": 4,
     "metadata": {},
     "output_type": "execute_result"
    }
   ],
   "source": [
    "dataset['Target'].unique()"
   ]
  },
  {
   "cell_type": "code",
   "execution_count": 5,
   "id": "7d017573",
   "metadata": {},
   "outputs": [
    {
     "data": {
      "text/html": [
       "<div>\n",
       "<style scoped>\n",
       "    .dataframe tbody tr th:only-of-type {\n",
       "        vertical-align: middle;\n",
       "    }\n",
       "\n",
       "    .dataframe tbody tr th {\n",
       "        vertical-align: top;\n",
       "    }\n",
       "\n",
       "    .dataframe thead th {\n",
       "        text-align: right;\n",
       "    }\n",
       "</style>\n",
       "<table border=\"1\" class=\"dataframe\">\n",
       "  <thead>\n",
       "    <tr style=\"text-align: right;\">\n",
       "      <th></th>\n",
       "      <th>Text</th>\n",
       "      <th>Target</th>\n",
       "    </tr>\n",
       "  </thead>\n",
       "  <tbody>\n",
       "    <tr>\n",
       "      <th>16661</th>\n",
       "      <td>NaN</td>\n",
       "      <td>Microservices</td>\n",
       "    </tr>\n",
       "    <tr>\n",
       "      <th>16940</th>\n",
       "      <td>NaN</td>\n",
       "      <td>Microservices</td>\n",
       "    </tr>\n",
       "    <tr>\n",
       "      <th>17073</th>\n",
       "      <td>NaN</td>\n",
       "      <td>Microservices</td>\n",
       "    </tr>\n",
       "  </tbody>\n",
       "</table>\n",
       "</div>"
      ],
      "text/plain": [
       "      Text         Target\n",
       "16661  NaN  Microservices\n",
       "16940  NaN  Microservices\n",
       "17073  NaN  Microservices"
      ]
     },
     "execution_count": 5,
     "metadata": {},
     "output_type": "execute_result"
    }
   ],
   "source": [
    "dataset.loc[dataset['Text'].isnull()]"
   ]
  },
  {
   "cell_type": "code",
   "execution_count": 6,
   "id": "24327501",
   "metadata": {},
   "outputs": [
    {
     "data": {
      "text/plain": [
       "FinTech             8551\n",
       "Cyber Security      2640\n",
       "Bigdata             2267\n",
       "Reg Tech            2206\n",
       "credit reporting    1748\n",
       "Blockchain          1375\n",
       "Neobanks            1069\n",
       "Microservices        977\n",
       "Stock Trading        787\n",
       "Robo Advising        737\n",
       "Data Security        347\n",
       "Name: Target, dtype: int64"
      ]
     },
     "execution_count": 6,
     "metadata": {},
     "output_type": "execute_result"
    }
   ],
   "source": [
    "dataset['Target'].value_counts()"
   ]
  },
  {
   "cell_type": "code",
   "execution_count": 7,
   "id": "ec517230",
   "metadata": {},
   "outputs": [
    {
     "data": {
      "image/png": "[encoded data removed]",
      "text/plain": [
       "<Figure size 576x432 with 1 Axes>"
      ]
     },
     "metadata": {
      "needs_background": "light"
     },
     "output_type": "display_data"
    }
   ],
   "source": [
    "#observing the distribution texts with respect to the target variable \n",
    "fig = plt.figure(figsize=(8,6))\n",
    "dataset.groupby('Target').Text.count().plot.bar(ylim=0)\n",
    "plt.show()"
   ]
  },
  {
   "cell_type": "code",
   "execution_count": 8,
   "id": "1c8d87df",
   "metadata": {},
   "outputs": [],
   "source": [
    "df = dataset.copy()"
   ]
  },
  {
   "cell_type": "code",
   "execution_count": 9,
   "id": "7e333848",
   "metadata": {},
   "outputs": [],
   "source": [
    "dataset.loc[dataset['Text'].isnull()]\n",
    "df = df[pd.notnull(df['Text'])]\n"
   ]
  },
  {
   "cell_type": "code",
   "execution_count": 10,
   "id": "5c30cfbd",
   "metadata": {
    "scrolled": true
   },
   "outputs": [
    {
     "data": {
      "text/html": [
       "<div>\n",
       "<style scoped>\n",
       "    .dataframe tbody tr th:only-of-type {\n",
       "        vertical-align: middle;\n",
       "    }\n",
       "\n",
       "    .dataframe tbody tr th {\n",
       "        vertical-align: top;\n",
       "    }\n",
       "\n",
       "    .dataframe thead th {\n",
       "        text-align: right;\n",
       "    }\n",
       "</style>\n",
       "<table border=\"1\" class=\"dataframe\">\n",
       "  <thead>\n",
       "    <tr style=\"text-align: right;\">\n",
       "      <th></th>\n",
       "      <th>Text</th>\n",
       "      <th>Bigdata</th>\n",
       "      <th>Blockchain</th>\n",
       "      <th>Cyber Security</th>\n",
       "      <th>Data Security</th>\n",
       "      <th>FinTech</th>\n",
       "      <th>Microservices</th>\n",
       "      <th>Neobanks</th>\n",
       "      <th>Reg Tech</th>\n",
       "      <th>Robo Advising</th>\n",
       "      <th>Stock Trading</th>\n",
       "      <th>credit reporting</th>\n",
       "    </tr>\n",
       "  </thead>\n",
       "  <tbody>\n",
       "    <tr>\n",
       "      <th>0</th>\n",
       "      <td>reserve bank forming expert committee based institute development research banking technology study approach distributed ledger technology help support shift</td>\n",
       "      <td>0</td>\n",
       "      <td>1</td>\n",
       "      <td>0</td>\n",
       "      <td>0</td>\n",
       "      <td>0</td>\n",
       "      <td>0</td>\n",
       "      <td>0</td>\n",
       "      <td>0</td>\n",
       "      <td>0</td>\n",
       "      <td>0</td>\n",
       "      <td>0</td>\n",
       "    </tr>\n",
       "    <tr>\n",
       "      <th>1</th>\n",
       "      <td>director could play role financial system</td>\n",
       "      <td>0</td>\n",
       "      <td>1</td>\n",
       "      <td>0</td>\n",
       "      <td>0</td>\n",
       "      <td>0</td>\n",
       "      <td>0</td>\n",
       "      <td>0</td>\n",
       "      <td>0</td>\n",
       "      <td>0</td>\n",
       "      <td>0</td>\n",
       "      <td>0</td>\n",
       "    </tr>\n",
       "    <tr>\n",
       "      <th>2</th>\n",
       "      <td>preliminary discuss secure transaction study research payment</td>\n",
       "      <td>0</td>\n",
       "      <td>1</td>\n",
       "      <td>0</td>\n",
       "      <td>0</td>\n",
       "      <td>0</td>\n",
       "      <td>0</td>\n",
       "      <td>0</td>\n",
       "      <td>0</td>\n",
       "      <td>0</td>\n",
       "      <td>0</td>\n",
       "      <td>0</td>\n",
       "    </tr>\n",
       "    <tr>\n",
       "      <th>3</th>\n",
       "      <td>security indeed prove essential transforming financial system part effort move away heavy reliance cash based</td>\n",
       "      <td>0</td>\n",
       "      <td>1</td>\n",
       "      <td>0</td>\n",
       "      <td>0</td>\n",
       "      <td>0</td>\n",
       "      <td>0</td>\n",
       "      <td>0</td>\n",
       "      <td>0</td>\n",
       "      <td>0</td>\n",
       "      <td>0</td>\n",
       "      <td>0</td>\n",
       "    </tr>\n",
       "    <tr>\n",
       "      <th>4</th>\n",
       "      <td>bank settlement normally take three days based payment verification technology take less tier security</td>\n",
       "      <td>0</td>\n",
       "      <td>1</td>\n",
       "      <td>0</td>\n",
       "      <td>0</td>\n",
       "      <td>0</td>\n",
       "      <td>0</td>\n",
       "      <td>0</td>\n",
       "      <td>0</td>\n",
       "      <td>0</td>\n",
       "      <td>0</td>\n",
       "      <td>0</td>\n",
       "    </tr>\n",
       "  </tbody>\n",
       "</table>\n",
       "</div>"
      ],
      "text/plain": [
       "                                                                                                                                                            Text  \\\n",
       "0  reserve bank forming expert committee based institute development research banking technology study approach distributed ledger technology help support shift   \n",
       "1                                                                                                                      director could play role financial system   \n",
       "2                                                                                                  preliminary discuss secure transaction study research payment   \n",
       "3                                                  security indeed prove essential transforming financial system part effort move away heavy reliance cash based   \n",
       "4                                                         bank settlement normally take three days based payment verification technology take less tier security   \n",
       "\n",
       "   Bigdata  Blockchain  Cyber Security  Data Security  FinTech  Microservices  \\\n",
       "0        0           1               0              0        0              0   \n",
       "1        0           1               0              0        0              0   \n",
       "2        0           1               0              0        0              0   \n",
       "3        0           1               0              0        0              0   \n",
       "4        0           1               0              0        0              0   \n",
       "\n",
       "   Neobanks  Reg Tech  Robo Advising  Stock Trading  credit reporting  \n",
       "0         0         0              0              0                 0  \n",
       "1         0         0              0              0                 0  \n",
       "2         0         0              0              0                 0  \n",
       "3         0         0              0              0                 0  \n",
       "4         0         0              0              0                 0  "
      ]
     },
     "execution_count": 10,
     "metadata": {},
     "output_type": "execute_result"
    }
   ],
   "source": [
    "one_hot = pd.get_dummies(df[\"Target\"])\n",
    "df.drop(['Target'],axis=1,inplace=True)\n",
    "df = pd.concat([df,one_hot],axis=1)\n",
    "df.head()"
   ]
  },
  {
   "cell_type": "code",
   "execution_count": null,
   "id": "2dba2674",
   "metadata": {},
   "outputs": [],
   "source": []
  },
  {
   "cell_type": "code",
   "execution_count": null,
   "id": "e1f4022b",
   "metadata": {},
   "outputs": [],
   "source": []
  },
  {
   "cell_type": "code",
   "execution_count": null,
   "id": "df451a30",
   "metadata": {},
   "outputs": [],
   "source": []
  },
  {
   "cell_type": "code",
   "execution_count": null,
   "id": "3799f612",
   "metadata": {},
   "outputs": [],
   "source": []
  },
  {
   "cell_type": "markdown",
   "id": "d5db5f19",
   "metadata": {},
   "source": [
    "# splitting into training and test sets"
   ]
  },
  {
   "cell_type": "code",
   "execution_count": 11,
   "id": "6cef8c6b",
   "metadata": {},
   "outputs": [],
   "source": [
    "from sklearn.model_selection import train_test_split\n",
    "X_train, X_test, y_train, y_test = train_test_split(df['Text'].values, df.drop(['Text'],axis=1).values, test_size=0.2, random_state=42)"
   ]
  },
  {
   "cell_type": "markdown",
   "id": "f8f1cb5e",
   "metadata": {},
   "source": [
    "# Tokenizing texts for embedding matrix"
   ]
  },
  {
   "cell_type": "code",
   "execution_count": 12,
   "id": "e71fd08d",
   "metadata": {},
   "outputs": [],
   "source": [
    "vocabulary_size = 20000\n",
    "tokenizer = Tokenizer(num_words= vocabulary_size)\n",
    "tokenizer.fit_on_texts(X_train)\n",
    "sequences = tokenizer.texts_to_sequences(X_train)\n",
    "X_train = pad_sequences(sequences, maxlen=50)"
   ]
  },
  {
   "cell_type": "code",
   "execution_count": 37,
   "id": "68aa3906",
   "metadata": {},
   "outputs": [
    {
     "data": {
      "text/plain": [
       "array([[   0,    0,    0, ...,   37,  128,  111],\n",
       "       [   0,    0,    0, ..., 1719,  663,  414],\n",
       "       [   0,    0,    0, ..., 2068, 1720,  379],\n",
       "       ...,\n",
       "       [   0,    0,    0, ...,   19,  968,  271],\n",
       "       [   0,    0,    0, ..., 5081,  805,  615],\n",
       "       [   0,    0,    0, ..., 1971,  476, 1468]])"
      ]
     },
     "execution_count": 37,
     "metadata": {},
     "output_type": "execute_result"
    }
   ],
   "source": [
    "X_train[:30, :]"
   ]
  },
  {
   "cell_type": "code",
   "execution_count": 14,
   "id": "4c28f8f2",
   "metadata": {},
   "outputs": [],
   "source": [
    "sequences = tokenizer.texts_to_sequences(X_test)\n",
    "X_test = pad_sequences(sequences, maxlen=50)"
   ]
  },
  {
   "cell_type": "markdown",
   "id": "d7deb32c",
   "metadata": {},
   "source": [
    "# Creating a LSTM model"
   ]
  },
  {
   "cell_type": "code",
   "execution_count": 22,
   "id": "fb03afa5",
   "metadata": {},
   "outputs": [],
   "source": [
    "epochs = 10\n",
    "emb_dim = 128\n",
    "batch_size = 256"
   ]
  },
  {
   "cell_type": "code",
   "execution_count": 24,
   "id": "5a6baba8",
   "metadata": {},
   "outputs": [],
   "source": [
    "model = Sequential()\n",
    "model.add(Embedding(20000, 100, input_length=50))\n",
    "model.add(Dropout(0.2))\n",
    "model.add(Conv1D(64, 5, activation='relu'))\n",
    "model.add(MaxPooling1D(pool_size=2))\n",
    "model.add(LSTM(100))\n",
    "model.add(Dense(11, activation='softmax'))\n",
    "model.compile(loss='categorical_crossentropy', optimizer='adam', metrics=['accuracy'])"
   ]
  },
  {
   "cell_type": "code",
   "execution_count": 25,
   "id": "f2ca5de3",
   "metadata": {},
   "outputs": [
    {
     "name": "stdout",
     "output_type": "stream",
     "text": [
      "Model: \"sequential_3\"\n",
      "_________________________________________________________________\n",
      "Layer (type)                 Output Shape              Param #   \n",
      "=================================================================\n",
      "embedding_3 (Embedding)      (None, 50, 100)           2000000   \n",
      "_________________________________________________________________\n",
      "dropout_3 (Dropout)          (None, 50, 100)           0         \n",
      "_________________________________________________________________\n",
      "conv1d_3 (Conv1D)            (None, 46, 64)            32064     \n",
      "_________________________________________________________________\n",
      "max_pooling1d_3 (MaxPooling1 (None, 23, 64)            0         \n",
      "_________________________________________________________________\n",
      "lstm_3 (LSTM)                (None, 100)               66000     \n",
      "_________________________________________________________________\n",
      "dense_3 (Dense)              (None, 11)                1111      \n",
      "=================================================================\n",
      "Total params: 2,099,175\n",
      "Trainable params: 2,099,175\n",
      "Non-trainable params: 0\n",
      "_________________________________________________________________\n",
      "None\n"
     ]
    }
   ],
   "source": [
    "print(model.summary())\n"
   ]
  },
  {
   "cell_type": "code",
   "execution_count": 26,
   "id": "5bf2ea35",
   "metadata": {},
   "outputs": [
    {
     "name": "stdout",
     "output_type": "stream",
     "text": [
      "Epoch 1/10\n",
      "57/57 [==============================] - 6s 104ms/step - loss: 2.0408 - accuracy: 0.3722 - val_loss: 1.9509 - val_accuracy: 0.3720\n",
      "Epoch 2/10\n",
      "57/57 [==============================] - 6s 100ms/step - loss: 1.7320 - accuracy: 0.4586 - val_loss: 1.5522 - val_accuracy: 0.5303\n",
      "Epoch 3/10\n",
      "57/57 [==============================] - 6s 99ms/step - loss: 1.2829 - accuracy: 0.6070 - val_loss: 1.3231 - val_accuracy: 0.5997\n",
      "Epoch 4/10\n",
      "57/57 [==============================] - 5s 95ms/step - loss: 0.9525 - accuracy: 0.7071 - val_loss: 1.2131 - val_accuracy: 0.6390\n",
      "Epoch 5/10\n",
      "57/57 [==============================] - 5s 96ms/step - loss: 0.7326 - accuracy: 0.7752 - val_loss: 1.2188 - val_accuracy: 0.6415\n",
      "Epoch 6/10\n",
      "57/57 [==============================] - 6s 97ms/step - loss: 0.5801 - accuracy: 0.8214 - val_loss: 1.2571 - val_accuracy: 0.6473\n",
      "Epoch 7/10\n",
      "57/57 [==============================] - 6s 97ms/step - loss: 0.4731 - accuracy: 0.8545 - val_loss: 1.3400 - val_accuracy: 0.6401\n",
      "Epoch 8/10\n",
      "57/57 [==============================] - 6s 99ms/step - loss: 0.3901 - accuracy: 0.8839 - val_loss: 1.4058 - val_accuracy: 0.6283\n",
      "Epoch 9/10\n",
      "57/57 [==============================] - 6s 97ms/step - loss: 0.3278 - accuracy: 0.9020 - val_loss: 1.4991 - val_accuracy: 0.6382\n",
      "Epoch 10/10\n",
      "57/57 [==============================] - 5s 96ms/step - loss: 0.2842 - accuracy: 0.9126 - val_loss: 1.5570 - val_accuracy: 0.6269\n"
     ]
    }
   ],
   "source": [
    "history = model.fit(X_train, y_train,\n",
    "                    epochs=epochs,\n",
    "                    batch_size=batch_size,\n",
    "                    validation_split=0.2,callbacks=[EarlyStopping(monitor='val_loss',patience=7, min_delta=0.0001)])"
   ]
  },
  {
   "cell_type": "code",
   "execution_count": 28,
   "id": "e1d70ebf",
   "metadata": {},
   "outputs": [
    {
     "name": "stdout",
     "output_type": "stream",
     "text": [
      "18/18 [==============================] - 0s 18ms/step - loss: 1.5897 - accuracy: 0.6186\n",
      "Test accuracy: 0.6185862421989441\n"
     ]
    }
   ],
   "source": [
    "score = model.evaluate(X_test, y_test,\n",
    "                       batch_size=256, verbose=1)\n",
    "print('Test accuracy:', score[1])"
   ]
  },
  {
   "cell_type": "code",
   "execution_count": 41,
   "id": "6ba4680f",
   "metadata": {},
   "outputs": [],
   "source": [
    "preds_LSTM_1 = model.predict(X_test)"
   ]
  },
  {
   "cell_type": "code",
   "execution_count": 42,
   "id": "de51e3c9",
   "metadata": {},
   "outputs": [
    {
     "name": "stdout",
     "output_type": "stream",
     "text": [
      "              precision    recall  f1-score   support\n",
      "\n",
      "           0       0.76      0.77      0.76       474\n",
      "           1       0.52      0.45      0.48       259\n",
      "           2       0.53      0.55      0.54       519\n",
      "           3       0.13      0.09      0.11        78\n",
      "           4       0.66      0.70      0.68      1725\n",
      "           5       0.53      0.45      0.49       181\n",
      "           6       0.40      0.36      0.38       201\n",
      "           7       0.85      0.78      0.82       429\n",
      "           8       0.30      0.29      0.30       157\n",
      "           9       0.51      0.48      0.50       160\n",
      "          10       0.57      0.61      0.59       358\n",
      "\n",
      "    accuracy                           0.62      4541\n",
      "   macro avg       0.52      0.50      0.51      4541\n",
      "weighted avg       0.61      0.62      0.62      4541\n",
      "\n"
     ]
    }
   ],
   "source": [
    "print(classification_report(np.argmax(y_test,axis=1),np.argmax(preds_LSTM_1,axis=1)))"
   ]
  },
  {
   "cell_type": "code",
   "execution_count": null,
   "id": "3c2d7b69",
   "metadata": {},
   "outputs": [],
   "source": []
  },
  {
   "cell_type": "code",
   "execution_count": 46,
   "id": "16b3135b",
   "metadata": {},
   "outputs": [
    {
     "name": "stdout",
     "output_type": "stream",
     "text": [
      "Saved lstm_1 to disk\n"
     ]
    }
   ],
   "source": [
    "model.save('./LSTM_models/lstm_1.h5')\n",
    "print(\"Saved lstm_1 to disk\")"
   ]
  },
  {
   "cell_type": "markdown",
   "id": "e28d4f9f",
   "metadata": {},
   "source": [
    "# Using spatial dropout layer and recurrrent dropout"
   ]
  },
  {
   "cell_type": "code",
   "execution_count": 29,
   "id": "6e68febc",
   "metadata": {},
   "outputs": [],
   "source": [
    "from keras.layers import SpatialDropout1D\n"
   ]
  },
  {
   "cell_type": "code",
   "execution_count": 36,
   "id": "c1130de8",
   "metadata": {},
   "outputs": [
    {
     "name": "stdout",
     "output_type": "stream",
     "text": [
      "Model: \"sequential_7\"\n",
      "_________________________________________________________________\n",
      "Layer (type)                 Output Shape              Param #   \n",
      "=================================================================\n",
      "embedding_6 (Embedding)      (None, 50, 128)           2560000   \n",
      "_________________________________________________________________\n",
      "spatial_dropout1d_2 (Spatial (None, 50, 128)           0         \n",
      "_________________________________________________________________\n",
      "lstm_6 (LSTM)                (None, 64)                49408     \n",
      "_________________________________________________________________\n",
      "dense_6 (Dense)              (None, 11)                715       \n",
      "=================================================================\n",
      "Total params: 2,610,123\n",
      "Trainable params: 2,610,123\n",
      "Non-trainable params: 0\n",
      "_________________________________________________________________\n",
      "None\n",
      "Epoch 1/100\n",
      "57/57 [==============================] - 13s 229ms/step - loss: 2.0978 - acc: 0.3544 - val_loss: 2.0039 - val_acc: 0.3720\n",
      "Epoch 2/100\n",
      "57/57 [==============================] - 12s 216ms/step - loss: 1.9807 - acc: 0.3769 - val_loss: 1.9579 - val_acc: 0.3728\n",
      "Epoch 3/100\n",
      "57/57 [==============================] - 11s 187ms/step - loss: 1.8798 - acc: 0.4034 - val_loss: 1.8313 - val_acc: 0.4248\n",
      "Epoch 4/100\n",
      "57/57 [==============================] - 10s 171ms/step - loss: 1.6727 - acc: 0.4884 - val_loss: 1.5230 - val_acc: 0.5405\n",
      "Epoch 5/100\n",
      "57/57 [==============================] - 9s 165ms/step - loss: 1.4912 - acc: 0.5456 - val_loss: 1.4090 - val_acc: 0.5677\n",
      "Epoch 6/100\n",
      "57/57 [==============================] - 9s 167ms/step - loss: 1.3724 - acc: 0.5806 - val_loss: 1.3264 - val_acc: 0.6030\n",
      "Epoch 7/100\n",
      "57/57 [==============================] - 10s 168ms/step - loss: 1.2784 - acc: 0.6068 - val_loss: 1.2523 - val_acc: 0.6184\n",
      "Epoch 8/100\n",
      "57/57 [==============================] - 9s 165ms/step - loss: 1.2097 - acc: 0.6241 - val_loss: 1.2169 - val_acc: 0.6346\n",
      "Epoch 9/100\n",
      "57/57 [==============================] - 10s 167ms/step - loss: 1.1387 - acc: 0.6426 - val_loss: 1.1862 - val_acc: 0.6445\n",
      "Epoch 10/100\n",
      "57/57 [==============================] - 10s 167ms/step - loss: 1.0824 - acc: 0.6637 - val_loss: 1.1690 - val_acc: 0.6506\n",
      "Epoch 11/100\n",
      "57/57 [==============================] - 10s 167ms/step - loss: 1.0297 - acc: 0.6770 - val_loss: 1.1673 - val_acc: 0.6539\n",
      "Epoch 12/100\n",
      "57/57 [==============================] - 9s 164ms/step - loss: 0.9869 - acc: 0.6892 - val_loss: 1.1793 - val_acc: 0.6575\n",
      "Epoch 13/100\n",
      "57/57 [==============================] - 10s 167ms/step - loss: 0.9515 - acc: 0.6979 - val_loss: 1.1400 - val_acc: 0.6608\n",
      "Epoch 14/100\n",
      "57/57 [==============================] - 9s 166ms/step - loss: 0.9111 - acc: 0.7111 - val_loss: 1.1050 - val_acc: 0.6691\n",
      "Epoch 15/100\n",
      "57/57 [==============================] - 10s 184ms/step - loss: 0.8903 - acc: 0.7174 - val_loss: 1.1431 - val_acc: 0.6674\n",
      "Epoch 16/100\n",
      "57/57 [==============================] - 11s 186ms/step - loss: 0.8529 - acc: 0.7271 - val_loss: 1.1233 - val_acc: 0.6696\n",
      "Epoch 17/100\n",
      "57/57 [==============================] - 12s 211ms/step - loss: 0.8287 - acc: 0.7342 - val_loss: 1.1261 - val_acc: 0.6707\n",
      "Epoch 18/100\n",
      "57/57 [==============================] - 10s 172ms/step - loss: 0.8003 - acc: 0.7447 - val_loss: 1.1114 - val_acc: 0.6699\n",
      "Epoch 19/100\n",
      "57/57 [==============================] - 9s 165ms/step - loss: 0.7828 - acc: 0.7484 - val_loss: 1.1094 - val_acc: 0.6773\n",
      "Epoch 20/100\n",
      "57/57 [==============================] - 11s 188ms/step - loss: 0.7639 - acc: 0.7528 - val_loss: 1.1065 - val_acc: 0.6757\n",
      "Epoch 21/100\n",
      "57/57 [==============================] - 11s 198ms/step - loss: 0.7377 - acc: 0.7645 - val_loss: 1.1091 - val_acc: 0.6765\n"
     ]
    }
   ],
   "source": [
    "model_2 = Sequential()\n",
    "model_2.add(Embedding(20000, emb_dim, input_length=50))\n",
    "model_2.add(SpatialDropout1D(0.7))\n",
    "model_2.add(LSTM(64, dropout=0.7, recurrent_dropout=0.7))\n",
    "model_2.add(Dense(11, activation='softmax'))\n",
    "model_2.compile(optimizer='adam', loss='categorical_crossentropy', metrics=['acc'])\n",
    "print(model_2.summary())\n",
    "history_2 = model_2.fit(X_train, y_train,\n",
    "                    epochs=100,\n",
    "                    batch_size=batch_size,\n",
    "                    validation_split=0.2,\n",
    "                    callbacks=[EarlyStopping(monitor='val_loss',patience=7, min_delta=0.0001)])"
   ]
  },
  {
   "cell_type": "markdown",
   "id": "6fbc1d8f",
   "metadata": {},
   "source": [
    "# Test accuracy on using spatial dropout1D and recurrent dropout "
   ]
  },
  {
   "cell_type": "code",
   "execution_count": 38,
   "id": "0b78c0d2",
   "metadata": {},
   "outputs": [
    {
     "name": "stdout",
     "output_type": "stream",
     "text": [
      "18/18 [==============================] - 0s 21ms/step - loss: 1.1094 - acc: 0.6756\n",
      "Test accuracy: 0.6756221055984497\n"
     ]
    }
   ],
   "source": [
    "score = model_2.evaluate(X_test, y_test,\n",
    "                       batch_size=256, verbose=1)\n",
    "print('Test accuracy on using :', score[1])"
   ]
  },
  {
   "cell_type": "code",
   "execution_count": 43,
   "id": "6cf480af",
   "metadata": {},
   "outputs": [],
   "source": [
    "preds_LSTM_2 = model_2.predict(X_test)"
   ]
  },
  {
   "cell_type": "code",
   "execution_count": 44,
   "id": "1c2ab397",
   "metadata": {},
   "outputs": [
    {
     "name": "stdout",
     "output_type": "stream",
     "text": [
      "              precision    recall  f1-score   support\n",
      "\n",
      "           0       0.82      0.79      0.81       474\n",
      "           1       0.63      0.46      0.53       259\n",
      "           2       0.58      0.60      0.59       519\n",
      "           3       0.25      0.01      0.02        78\n",
      "           4       0.63      0.85      0.72      1725\n",
      "           5       0.75      0.46      0.57       181\n",
      "           6       0.59      0.13      0.22       201\n",
      "           7       0.91      0.81      0.86       429\n",
      "           8       0.59      0.29      0.39       157\n",
      "           9       0.83      0.49      0.61       160\n",
      "          10       0.68      0.60      0.64       358\n",
      "\n",
      "    accuracy                           0.68      4541\n",
      "   macro avg       0.66      0.50      0.54      4541\n",
      "weighted avg       0.68      0.68      0.66      4541\n",
      "\n"
     ]
    }
   ],
   "source": [
    "print(classification_report(np.argmax(y_test,axis=1),np.argmax(preds_LSTM_2,axis=1)))"
   ]
  },
  {
   "cell_type": "code",
   "execution_count": null,
   "id": "86b62591",
   "metadata": {},
   "outputs": [],
   "source": []
  },
  {
   "cell_type": "code",
   "execution_count": 47,
   "id": "40973c14",
   "metadata": {},
   "outputs": [
    {
     "name": "stdout",
     "output_type": "stream",
     "text": [
      "Saved lstm_2 to disk\n"
     ]
    }
   ],
   "source": [
    "model_2.save('./LSTM_models/lstm_2.h5')\n",
    "print(\"Saved lstm_2 to disk\")"
   ]
  },
  {
   "cell_type": "code",
   "execution_count": null,
   "id": "1b2f9ac6",
   "metadata": {},
   "outputs": [],
   "source": []
  }
 ],
 "metadata": {
  "kernelspec": {
   "display_name": "Python 3",
   "language": "python",
   "name": "python3"
  },
  "language_info": {
   "codemirror_mode": {
    "name": "ipython",
    "version": 3
   },
   "file_extension": ".py",
   "mimetype": "text/x-python",
   "name": "python",
   "nbconvert_exporter": "python",
   "pygments_lexer": "ipython3",
   "version": "3.8.8"
  }
 },
 "nbformat": 4,
 "nbformat_minor": 5
}
